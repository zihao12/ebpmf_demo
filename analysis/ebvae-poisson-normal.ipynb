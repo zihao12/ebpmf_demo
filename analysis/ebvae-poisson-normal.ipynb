{
 "cells": [
  {
   "cell_type": "markdown",
   "metadata": {},
   "source": [
    "Here I try to solve a Empirical Bayes Poisson Mean problem using VAE (detail described in https://www.overleaf.com/project/5bd084d90a33772e7a7f99a2  `EBVAE.tex`). \n",
    "\n",
    "The model is very simple and can only model the prior family of `truncated normal`. \n",
    "\n",
    "I need to run $10000$ iteraions to get a relatively good result. (Before I only run $2000$ iterations and it is not enough)."
   ]
  },
  {
   "cell_type": "code",
   "execution_count": 1,
   "metadata": {},
   "outputs": [],
   "source": [
    "from __future__ import print_function\n",
    "import argparse\n",
    "import torch\n",
    "import torch.utils.data\n",
    "from torch import nn, optim\n",
    "from torch.nn import functional as F\n",
    "from torchvision import datasets, transforms\n",
    "from torchvision.utils import save_image\n",
    "\n",
    "import numpy as np\n",
    "from matplotlib import pyplot as plt\n",
    "\n",
    "import pdb"
   ]
  },
  {
   "cell_type": "code",
   "execution_count": 2,
   "metadata": {},
   "outputs": [],
   "source": [
    "class Map(dict):\n",
    "    def __init__(self, *args, **kwargs):\n",
    "        super(Map, self).__init__(*args, **kwargs)\n",
    "        for arg in args:\n",
    "            if isinstance(arg, dict):\n",
    "                for k, v in arg.items():\n",
    "                    self[k] = v\n",
    "\n",
    "        if kwargs:\n",
    "            for k, v in kwargs.items():\n",
    "                self[k] = v\n",
    "\n",
    "    def __getattr__(self, attr):\n",
    "        return self.get(attr)\n",
    "\n",
    "    def __setattr__(self, key, value):\n",
    "        self.__setitem__(key, value)\n",
    "\n",
    "    def __setitem__(self, key, value):\n",
    "        super(Map, self).__setitem__(key, value)\n",
    "        self.__dict__.update({key: value})\n",
    "\n",
    "    def __delattr__(self, item):\n",
    "        self.__delitem__(item)\n",
    "\n",
    "    def __delitem__(self, key):\n",
    "        super(Map, self).__delitem__(key)\n",
    "        del self.__dict__[key]"
   ]
  },
  {
   "cell_type": "code",
   "execution_count": 3,
   "metadata": {},
   "outputs": [],
   "source": [
    "def sample_trunc_normal(mu, sd = 1):\n",
    "    x = np.random.normal(loc = mu, scale = sd, size = 1).item()\n",
    "    if x > 0:\n",
    "        return x\n",
    "    else:\n",
    "        return 0\n",
    "    \n",
    "def sample_poisson_trunc_normal(n, mu, sd, seed = 123):\n",
    "    np.random.seed(seed)\n",
    "    lam = [sample_trunc_normal(mu, sd) for i in range(n)]\n",
    "    print(len(lam))\n",
    "    x = np.random.poisson(lam = lam)\n",
    "    return {\"lam\":lam, \"x\":x}"
   ]
  },
  {
   "cell_type": "markdown",
   "metadata": {},
   "source": [
    "* Simulate data: $\\lambda$s are from truncated normal; †hen $x \\sim Pois(\\lambda)$. I plot the histogram of data below. \n",
    "* Model: specified in the `args` class. "
   ]
  },
  {
   "cell_type": "code",
   "execution_count": 4,
   "metadata": {},
   "outputs": [
    {
     "name": "stdout",
     "output_type": "stream",
     "text": [
      "5000\n"
     ]
    }
   ],
   "source": [
    "## simulate data\n",
    "n = 5000\n",
    "mu = 10\n",
    "sd = 5\n",
    "sim = sample_poisson_trunc_normal(n, mu,sd, seed = 123)"
   ]
  },
  {
   "cell_type": "code",
   "execution_count": 5,
   "metadata": {},
   "outputs": [
    {
     "data": {
      "image/png": "[encoded data removed]",
      "text/plain": [
       "<Figure size 432x288 with 1 Axes>"
      ]
     },
     "metadata": {},
     "output_type": "display_data"
    }
   ],
   "source": [
    "plt.hist(sim[\"x\"], bins=100)\n",
    "plt.ylabel(\"x\")\n",
    "plt.title(\"histogram for data x\")\n",
    "plt.show()"
   ]
  },
  {
   "cell_type": "code",
   "execution_count": 6,
   "metadata": {},
   "outputs": [],
   "source": [
    "## model arguments\n",
    "args = Map(batch_size = n, epochs = 10000, no_cuda = 1, seed = 123, log_interval= 100, L = 20)\n",
    "args.cuda = not args.no_cuda and torch.cuda.is_available()\n",
    "torch.manual_seed(args.seed)\n",
    "device = torch.device(\"cuda\" if args.cuda else \"cpu\")\n",
    "kwargs = {'num_workers': 1, 'pin_memory': True} if args.cuda else {}\n",
    "\n",
    "data = torch.Tensor(sim[\"x\"].reshape(-1,1))\n",
    "train_loader = torch.utils.data.DataLoader(data, \n",
    "                                           batch_size=args.batch_size, shuffle=False, **kwargs)\n"
   ]
  },
  {
   "cell_type": "code",
   "execution_count": 7,
   "metadata": {
    "scrolled": true
   },
   "outputs": [
    {
     "name": "stdout",
     "output_type": "stream",
     "text": [
      "====> Epoch: 100 Average loss: -0.0074\n",
      "====> Epoch: 200 Average loss: -1.7422\n",
      "====> Epoch: 300 Average loss: -3.0664\n",
      "====> Epoch: 400 Average loss: -4.1306\n",
      "====> Epoch: 500 Average loss: -5.0390\n",
      "====> Epoch: 600 Average loss: -5.8160\n",
      "====> Epoch: 700 Average loss: -6.5002\n",
      "====> Epoch: 800 Average loss: -7.1114\n",
      "====> Epoch: 900 Average loss: -7.6601\n",
      "====> Epoch: 1000 Average loss: -8.1486\n",
      "====> Epoch: 1100 Average loss: -8.5819\n",
      "====> Epoch: 1200 Average loss: -8.9880\n",
      "====> Epoch: 1300 Average loss: -9.3480\n",
      "====> Epoch: 1400 Average loss: -9.6796\n",
      "====> Epoch: 1500 Average loss: -9.9907\n",
      "====> Epoch: 1600 Average loss: -10.2608\n",
      "====> Epoch: 1700 Average loss: -10.5398\n",
      "====> Epoch: 1800 Average loss: -10.7647\n",
      "====> Epoch: 1900 Average loss: -10.9893\n",
      "====> Epoch: 2000 Average loss: -11.1824\n",
      "====> Epoch: 2100 Average loss: -11.3477\n",
      "====> Epoch: 2200 Average loss: -11.5563\n",
      "====> Epoch: 2300 Average loss: -11.6966\n",
      "====> Epoch: 2400 Average loss: -11.8118\n",
      "====> Epoch: 2500 Average loss: -11.9771\n",
      "====> Epoch: 2600 Average loss: -12.1144\n",
      "====> Epoch: 2700 Average loss: -12.2207\n",
      "====> Epoch: 2800 Average loss: -12.3347\n",
      "====> Epoch: 2900 Average loss: -12.4470\n",
      "====> Epoch: 3000 Average loss: -12.5348\n",
      "====> Epoch: 3100 Average loss: -12.6192\n",
      "====> Epoch: 3200 Average loss: -12.6994\n",
      "====> Epoch: 3300 Average loss: -12.7650\n",
      "====> Epoch: 3400 Average loss: -12.8402\n",
      "====> Epoch: 3500 Average loss: -12.8978\n",
      "====> Epoch: 3600 Average loss: -12.9593\n",
      "====> Epoch: 3700 Average loss: -13.0075\n",
      "====> Epoch: 3800 Average loss: -13.0148\n",
      "====> Epoch: 3900 Average loss: -13.0733\n",
      "====> Epoch: 4000 Average loss: -13.1366\n",
      "====> Epoch: 4100 Average loss: -13.1594\n",
      "====> Epoch: 4200 Average loss: -13.2000\n",
      "====> Epoch: 4300 Average loss: -13.2481\n",
      "====> Epoch: 4400 Average loss: -13.2602\n",
      "====> Epoch: 4500 Average loss: -13.3010\n",
      "====> Epoch: 4600 Average loss: -13.3461\n",
      "====> Epoch: 4700 Average loss: -13.3708\n",
      "====> Epoch: 4800 Average loss: -13.4186\n",
      "====> Epoch: 4900 Average loss: -13.4256\n",
      "====> Epoch: 5000 Average loss: -13.4209\n",
      "====> Epoch: 5100 Average loss: -13.4588\n",
      "====> Epoch: 5200 Average loss: -13.4928\n",
      "====> Epoch: 5300 Average loss: -13.5179\n",
      "====> Epoch: 5400 Average loss: -13.5233\n",
      "====> Epoch: 5500 Average loss: -13.5515\n",
      "====> Epoch: 5600 Average loss: -13.5651\n",
      "====> Epoch: 5700 Average loss: -13.5830\n",
      "====> Epoch: 5800 Average loss: -13.5922\n",
      "====> Epoch: 5900 Average loss: -13.5917\n",
      "====> Epoch: 6000 Average loss: -13.6155\n",
      "====> Epoch: 6100 Average loss: -13.6376\n",
      "====> Epoch: 6200 Average loss: -13.6479\n",
      "====> Epoch: 6300 Average loss: -13.6474\n",
      "====> Epoch: 6400 Average loss: -13.6627\n",
      "====> Epoch: 6500 Average loss: -13.6651\n",
      "====> Epoch: 6600 Average loss: -13.6763\n",
      "====> Epoch: 6700 Average loss: -13.7074\n",
      "====> Epoch: 6800 Average loss: -13.6985\n",
      "====> Epoch: 6900 Average loss: -13.7036\n",
      "====> Epoch: 7000 Average loss: -13.7178\n",
      "====> Epoch: 7100 Average loss: -13.7113\n",
      "====> Epoch: 7200 Average loss: -13.7311\n",
      "====> Epoch: 7300 Average loss: -13.7408\n",
      "====> Epoch: 7400 Average loss: -13.7633\n",
      "====> Epoch: 7500 Average loss: -13.7543\n",
      "====> Epoch: 7600 Average loss: -13.7683\n",
      "====> Epoch: 7700 Average loss: -13.7718\n",
      "====> Epoch: 7800 Average loss: -13.7906\n",
      "====> Epoch: 7900 Average loss: -13.7877\n",
      "====> Epoch: 8000 Average loss: -13.7883\n",
      "====> Epoch: 8100 Average loss: -13.7846\n",
      "====> Epoch: 8200 Average loss: -13.7998\n",
      "====> Epoch: 8300 Average loss: -13.7658\n",
      "====> Epoch: 8400 Average loss: -13.8039\n",
      "====> Epoch: 8500 Average loss: -13.8108\n",
      "====> Epoch: 8600 Average loss: -13.7875\n",
      "====> Epoch: 8700 Average loss: -13.7951\n",
      "====> Epoch: 8800 Average loss: -13.8043\n",
      "====> Epoch: 8900 Average loss: -13.8078\n",
      "====> Epoch: 9000 Average loss: -13.8250\n",
      "====> Epoch: 9100 Average loss: -13.8243\n",
      "====> Epoch: 9200 Average loss: -13.8233\n",
      "====> Epoch: 9300 Average loss: -13.8242\n",
      "====> Epoch: 9400 Average loss: -13.8263\n",
      "====> Epoch: 9500 Average loss: -13.8329\n",
      "====> Epoch: 9600 Average loss: -13.8161\n",
      "====> Epoch: 9700 Average loss: -13.8499\n",
      "====> Epoch: 9800 Average loss: -13.8256\n",
      "====> Epoch: 9900 Average loss: -13.8614\n",
      "====> Epoch: 10000 Average loss: -13.8578\n"
     ]
    }
   ],
   "source": [
    "class VAE(nn.Module):\n",
    "    def __init__(self):\n",
    "        super(VAE, self).__init__()\n",
    "\n",
    "        mid_len = 10\n",
    "        self.fc1 = nn.Linear(1, mid_len)\n",
    "        self.fc21 = nn.Linear(mid_len, 1)\n",
    "        self.fc22 = nn.Linear(mid_len, 1)\n",
    "        self.fc3 = nn.Linear(1, 1)\n",
    "\n",
    "    def encode(self, x):\n",
    "        h1 = F.relu(self.fc1(x))\n",
    "        return self.fc21(h1), self.fc22(h1)\n",
    " \n",
    "    def reparameterize(self, mu, logvar, L = None):\n",
    "        if L is None: ## L is the number of samples we take to compute E_q ...\n",
    "            L = args.L\n",
    "        std = torch.exp(0.5*logvar)\n",
    "        eps = torch.randn_like(std.unsqueeze(-1).expand(-1,L, -1)) ## [batch_size, args.L, 1]\n",
    "        return mu.unsqueeze(-1) + eps*std.unsqueeze(-1) ## [batch_size, args.L, 1]\n",
    "\n",
    "    def decode(self, z):\n",
    "        h3 = self.fc3(z).clamp(min = 1e-20)\n",
    "        return h3 ## [batch_size, args.L, 1]\n",
    "\n",
    "    def forward(self, x, L = None):\n",
    "        mu, logvar = self.encode(x.view(-1, 1)) ## mu, logvar: [batch_size, 1]\n",
    "        z = self.reparameterize(mu, logvar, L) ## z: [batch_size, args.L, 1]\n",
    "        theta = self.decode(z) ## theta: [batch_size, args.L, 1]\n",
    "        return theta, mu, logvar\n",
    "    \n",
    "\n",
    "# Expected (under q) Poisson loss + KL divergence losses summed over all elements and batch\n",
    "def loss_function(theta, x, mu, logvar):    \n",
    "    poisson_ll = (- theta + x.view(-1,1,1) * torch.log(theta)).sum()/args.L\n",
    "    # see Appendix B from VAE paper:\n",
    "    # Kingma and Welling. Auto-Encoding Variational Bayes. ICLR, 2014\n",
    "    # https://arxiv.org/abs/1312.6114\n",
    "    # 0.5 * sum(1 + log(sigma^2) - mu^2 - sigma^2)\n",
    "    neg_KLD = -0.5 * torch.sum(1 + logvar - mu.pow(2) - logvar.exp())\n",
    "    return - poisson_ll + neg_KLD\n",
    "\n",
    "\n",
    "def train(epoch):\n",
    "    model.train()\n",
    "    train_loss = 0\n",
    "    for batch_idx, data in enumerate(train_loader):\n",
    "        data = data.to(device)\n",
    "        optimizer.zero_grad()\n",
    "        theta_batch, mu, logvar = model.forward(data)\n",
    "        loss = loss_function(theta_batch, data, mu, logvar)\n",
    "        loss.backward()\n",
    "        train_loss += loss.item()\n",
    "        optimizer.step()\n",
    "    if epoch % args.log_interval == 0:\n",
    "        print('====> Epoch: {} Average loss: {:.4f}'.format(\n",
    "              epoch, train_loss / len(train_loader.dataset)))\n",
    "    \n",
    "    return data\n",
    "\n",
    "      \n",
    "model = VAE().to(device)\n",
    "optimizer = optim.Adam(model.parameters(), lr=1e-3, betas=(0.9, 0.99))\n",
    "if __name__ == \"__main__\":\n",
    "    for epoch in range(1, args.epochs + 1):\n",
    "        data = train(epoch)"
   ]
  },
  {
   "cell_type": "markdown",
   "metadata": {},
   "source": [
    "Let's see how our posterior mean of $\\lambda$ compare with truth"
   ]
  },
  {
   "cell_type": "code",
   "execution_count": 8,
   "metadata": {},
   "outputs": [
    {
     "data": {
      "image/png": "[encoded data removed]",
      "text/plain": [
       "<Figure size 432x288 with 1 Axes>"
      ]
     },
     "metadata": {},
     "output_type": "display_data"
    }
   ],
   "source": [
    "lam, mu, logvar = model.forward(data, L = 1000)\n",
    "plt.scatter(sim[\"x\"], lam.mean(dim = 1)[:,0].tolist())\n",
    "plt.xlabel(\"x\")\n",
    "plt.ylabel(\"lam_posterior\")\n",
    "plt.show()"
   ]
  },
  {
   "cell_type": "code",
   "execution_count": 9,
   "metadata": {
    "scrolled": true
   },
   "outputs": [
    {
     "data": {
      "image/png": "[encoded data removed]",
      "text/plain": [
       "<Figure size 432x288 with 1 Axes>"
      ]
     },
     "metadata": {},
     "output_type": "display_data"
    }
   ],
   "source": [
    "plt.scatter(sim[\"lam\"], lam.mean(dim = 1)[:,0].tolist())\n",
    "plt.xlabel(\"lam\")\n",
    "plt.ylabel(\"lam_posterior\")\n",
    "plt.show()"
   ]
  },
  {
   "cell_type": "markdown",
   "metadata": {},
   "source": [
    "Let's take a look at $g_{\\beta}(\\theta)$.\n",
    "\n",
    "We sample from $g_{\\beta}(\\theta)$ this way:\n",
    "\n",
    "* Sample $z_i \\sim p0(.) = N(.;0,1)$\n",
    "\n",
    "* Let $\\theta_i = f_{\\beta}(z_i)$\n",
    "\n",
    "Compare with the true $g(theta)$, our model has too many weights on 0s. But the mean seems right. "
   ]
  },
  {
   "cell_type": "code",
   "execution_count": 10,
   "metadata": {},
   "outputs": [
    {
     "data": {
      "image/png": "[encoded data removed]",
      "text/plain": [
       "<Figure size 432x288 with 1 Axes>"
      ]
     },
     "metadata": {},
     "output_type": "display_data"
    }
   ],
   "source": [
    "N = len(sim[\"lam\"])\n",
    "z = torch.randn(N,1)\n",
    "theta = model.decode(z)\n",
    "\n",
    "bins = np.linspace(0, 25, 100)\n",
    "plt.hist(theta[:,0].tolist(), bins, density = True, alpha=0.5, label='g_beta')\n",
    "plt.hist(sim[\"lam\"], bins, density = True, alpha=0.5, label='g_true')\n",
    "plt.legend(loc='upper right')\n",
    "plt.show()"
   ]
  },
  {
   "cell_type": "markdown",
   "metadata": {},
   "source": [
    "Save result for comparison with `ebpm`. "
   ]
  },
  {
   "cell_type": "code",
   "execution_count": 12,
   "metadata": {},
   "outputs": [],
   "source": [
    "import pickle\n",
    "out = {\"x\":sim[\"x\"], \"lam\":np.array(sim[\"lam\"]),\"prior_vae\" : np.array(theta[:,0].tolist()),\"posterior_vae\":np.array(lam.mean(dim = 1)[:,0].tolist())}\n",
    "with open(\"../data/poisson-normal.pkl\", \"wb\") as f:\n",
    "    pickle.dump(out, f)"
   ]
  }
 ],
 "metadata": {
  "kernelspec": {
   "display_name": "Python 3",
   "language": "python",
   "name": "python3"
  },
  "language_info": {
   "codemirror_mode": {
    "name": "ipython",
    "version": 3
   },
   "file_extension": ".py",
   "mimetype": "text/x-python",
   "name": "python",
   "nbconvert_exporter": "python",
   "pygments_lexer": "ipython3",
   "version": "3.6.8"
  }
 },
 "nbformat": 4,
 "nbformat_minor": 2
}
