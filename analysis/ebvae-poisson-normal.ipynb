{
 "cells": [
  {
   "cell_type": "markdown",
   "metadata": {},
   "source": [
    "Here I try to solve a Empirical Bayes Poisson Mean problem using VAE (detail described in https://www.overleaf.com/project/5bd084d90a33772e7a7f99a2  `EBVAE.tex`). \n",
    "\n",
    "The model is the simplest one. For now I take only one sample ($L = 1$) from $q_{\\phi}$ for both training and computing posterior mean. "
   ]
  },
  {
   "cell_type": "code",
   "execution_count": 1,
   "metadata": {},
   "outputs": [],
   "source": [
    "from __future__ import print_function\n",
    "import argparse\n",
    "import torch\n",
    "import torch.utils.data\n",
    "from torch import nn, optim\n",
    "from torch.nn import functional as F\n",
    "from torchvision import datasets, transforms\n",
    "from torchvision.utils import save_image\n",
    "\n",
    "import numpy as np\n",
    "from matplotlib import pyplot as plt\n",
    "\n",
    "import pdb"
   ]
  },
  {
   "cell_type": "code",
   "execution_count": 2,
   "metadata": {},
   "outputs": [],
   "source": [
    "class Map(dict):\n",
    "    def __init__(self, *args, **kwargs):\n",
    "        super(Map, self).__init__(*args, **kwargs)\n",
    "        for arg in args:\n",
    "            if isinstance(arg, dict):\n",
    "                for k, v in arg.items():\n",
    "                    self[k] = v\n",
    "\n",
    "        if kwargs:\n",
    "            for k, v in kwargs.items():\n",
    "                self[k] = v\n",
    "\n",
    "    def __getattr__(self, attr):\n",
    "        return self.get(attr)\n",
    "\n",
    "    def __setattr__(self, key, value):\n",
    "        self.__setitem__(key, value)\n",
    "\n",
    "    def __setitem__(self, key, value):\n",
    "        super(Map, self).__setitem__(key, value)\n",
    "        self.__dict__.update({key: value})\n",
    "\n",
    "    def __delattr__(self, item):\n",
    "        self.__delitem__(item)\n",
    "\n",
    "    def __delitem__(self, key):\n",
    "        super(Map, self).__delitem__(key)\n",
    "        del self.__dict__[key]"
   ]
  },
  {
   "cell_type": "code",
   "execution_count": 3,
   "metadata": {},
   "outputs": [],
   "source": [
    "def sample_trunc_normal(mu, sd = 1):\n",
    "    x = np.random.normal(loc = mu, scale = sd, size = 1).item()\n",
    "    if x > 0:\n",
    "        return x\n",
    "    else:\n",
    "        return 0\n",
    "    \n",
    "def sample_poisson_trunc_normal(n, mu, sd, seed = 123):\n",
    "    np.random.seed(seed)\n",
    "    lam = [sample_trunc_normal(mu, sd) for i in range(n)]\n",
    "    print(len(lam))\n",
    "    x = np.random.poisson(lam = lam)\n",
    "    return {\"lam\":lam, \"x\":x}"
   ]
  },
  {
   "cell_type": "markdown",
   "metadata": {},
   "source": [
    "* Simulate data: $\\lambda$s are from truncated normal; †hen $x \\sim Pois(\\lambda)$. I plot the histogram of data below. \n",
    "* Model: specified in the `args` class. "
   ]
  },
  {
   "cell_type": "code",
   "execution_count": 4,
   "metadata": {},
   "outputs": [
    {
     "name": "stdout",
     "output_type": "stream",
     "text": [
      "5000\n"
     ]
    }
   ],
   "source": [
    "## simulate data\n",
    "n = 5000\n",
    "mu = 10\n",
    "sd = 5\n",
    "sim = sample_poisson_trunc_normal(n, mu,sd, seed = 123)"
   ]
  },
  {
   "cell_type": "code",
   "execution_count": 5,
   "metadata": {},
   "outputs": [
    {
     "data": {
      "image/png": "[encoded data removed]",
      "text/plain": [
       "<Figure size 432x288 with 1 Axes>"
      ]
     },
     "metadata": {},
     "output_type": "display_data"
    },
    {
     "data": {
      "image/png": "[encoded data removed]",
      "text/plain": [
       "<Figure size 432x288 with 1 Axes>"
      ]
     },
     "metadata": {},
     "output_type": "display_data"
    }
   ],
   "source": [
    "plt.hist(sim[\"x\"], bins=100)\n",
    "plt.ylabel(\"x\")\n",
    "plt.title(\"histogram for data x\")\n",
    "plt.show()\n",
    "\n",
    "plt.hist(sim[\"lam\"], bins=100)\n",
    "plt.ylabel(\"lam\")\n",
    "plt.title(\"histogram for lam (truncated normal)\")\n",
    "plt.show()"
   ]
  },
  {
   "cell_type": "code",
   "execution_count": 6,
   "metadata": {},
   "outputs": [],
   "source": [
    "## model arguments\n",
    "args = Map(batch_size = n, epochs = 2000, no_cuda = 1, seed = 123, log_interval= 100, L = 20)\n",
    "args.cuda = not args.no_cuda and torch.cuda.is_available()\n",
    "torch.manual_seed(args.seed)\n",
    "device = torch.device(\"cuda\" if args.cuda else \"cpu\")\n",
    "kwargs = {'num_workers': 1, 'pin_memory': True} if args.cuda else {}\n",
    "\n",
    "data = torch.Tensor(sim[\"x\"].reshape(-1,1))\n",
    "train_loader = torch.utils.data.DataLoader(data, \n",
    "                                           batch_size=args.batch_size, shuffle=False, **kwargs)\n"
   ]
  },
  {
   "cell_type": "code",
   "execution_count": 7,
   "metadata": {
    "scrolled": true
   },
   "outputs": [
    {
     "name": "stdout",
     "output_type": "stream",
     "text": [
      "====> Epoch: 100 Average loss: -0.0074\n",
      "====> Epoch: 200 Average loss: -1.7422\n",
      "====> Epoch: 300 Average loss: -3.0664\n",
      "====> Epoch: 400 Average loss: -4.1306\n",
      "====> Epoch: 500 Average loss: -5.0390\n",
      "====> Epoch: 600 Average loss: -5.8160\n",
      "====> Epoch: 700 Average loss: -6.5002\n",
      "====> Epoch: 800 Average loss: -7.1114\n",
      "====> Epoch: 900 Average loss: -7.6601\n",
      "====> Epoch: 1000 Average loss: -8.1486\n",
      "====> Epoch: 1100 Average loss: -8.5819\n",
      "====> Epoch: 1200 Average loss: -8.9880\n",
      "====> Epoch: 1300 Average loss: -9.3480\n",
      "====> Epoch: 1400 Average loss: -9.6796\n",
      "====> Epoch: 1500 Average loss: -9.9907\n",
      "====> Epoch: 1600 Average loss: -10.2608\n",
      "====> Epoch: 1700 Average loss: -10.5398\n",
      "====> Epoch: 1800 Average loss: -10.7647\n",
      "====> Epoch: 1900 Average loss: -10.9893\n",
      "====> Epoch: 2000 Average loss: -11.1824\n"
     ]
    }
   ],
   "source": [
    "class VAE(nn.Module):\n",
    "    def __init__(self):\n",
    "        super(VAE, self).__init__()\n",
    "\n",
    "        mid_len = 10\n",
    "        self.fc1 = nn.Linear(1, mid_len)\n",
    "        self.fc21 = nn.Linear(mid_len, 1)\n",
    "        self.fc22 = nn.Linear(mid_len, 1)\n",
    "        self.fc3 = nn.Linear(1, 1)\n",
    "\n",
    "    def encode(self, x):\n",
    "        h1 = F.relu(self.fc1(x))\n",
    "        return self.fc21(h1), self.fc22(h1)\n",
    " \n",
    "    def reparameterize(self, mu, logvar, L = None):\n",
    "        if L is None: ## L is the number of samples we take to compute E_q ...\n",
    "            L = args.L\n",
    "        std = torch.exp(0.5*logvar)\n",
    "        eps = torch.randn_like(std.unsqueeze(-1).expand(-1,L, -1)) ## [batch_size, args.L, 1]\n",
    "        return mu.unsqueeze(-1) + eps*std.unsqueeze(-1) ## [batch_size, args.L, 1]\n",
    "\n",
    "    def decode(self, z):\n",
    "        h3 = self.fc3(z).clamp(min = 1e-20)\n",
    "        return h3 ## [batch_size, args.L, 1]\n",
    "\n",
    "    def forward(self, x, L = None):\n",
    "        mu, logvar = self.encode(x.view(-1, 1)) ## mu, logvar: [batch_size, 1]\n",
    "        z = self.reparameterize(mu, logvar, L) ## z: [batch_size, args.L, 1]\n",
    "        theta = self.decode(z) ## theta: [batch_size, args.L, 1]\n",
    "        return theta, mu, logvar\n",
    "    \n",
    "\n",
    "# Expected (under q) Poisson loss + KL divergence losses summed over all elements and batch\n",
    "def loss_function(theta, x, mu, logvar):    \n",
    "    poisson_ll = (- theta + x.view(-1,1,1) * torch.log(theta)).sum()/args.L\n",
    "    # see Appendix B from VAE paper:\n",
    "    # Kingma and Welling. Auto-Encoding Variational Bayes. ICLR, 2014\n",
    "    # https://arxiv.org/abs/1312.6114\n",
    "    # 0.5 * sum(1 + log(sigma^2) - mu^2 - sigma^2)\n",
    "    neg_KLD = -0.5 * torch.sum(1 + logvar - mu.pow(2) - logvar.exp())\n",
    "    return - poisson_ll + neg_KLD\n",
    "\n",
    "\n",
    "def train(epoch):\n",
    "    model.train()\n",
    "    train_loss = 0\n",
    "    for batch_idx, data in enumerate(train_loader):\n",
    "        data = data.to(device)\n",
    "        optimizer.zero_grad()\n",
    "        theta_batch, mu, logvar = model.forward(data)\n",
    "        loss = loss_function(theta_batch, data, mu, logvar)\n",
    "        loss.backward()\n",
    "        train_loss += loss.item()\n",
    "        optimizer.step()\n",
    "    if epoch % args.log_interval == 0:\n",
    "        print('====> Epoch: {} Average loss: {:.4f}'.format(\n",
    "              epoch, train_loss / len(train_loader.dataset)))\n",
    "    \n",
    "    return data\n",
    "\n",
    "      \n",
    "model = VAE().to(device)\n",
    "optimizer = optim.Adam(model.parameters(), lr=1e-3, betas=(0.9, 0.99))\n",
    "if __name__ == \"__main__\":\n",
    "    for epoch in range(1, args.epochs + 1):\n",
    "        data = train(epoch)"
   ]
  },
  {
   "cell_type": "markdown",
   "metadata": {},
   "source": [
    "Let's see how our posterior mean of $\\lambda$ compare with truth"
   ]
  },
  {
   "cell_type": "code",
   "execution_count": 8,
   "metadata": {},
   "outputs": [
    {
     "data": {
      "image/png": "[encoded data removed]",
      "text/plain": [
       "<Figure size 432x288 with 1 Axes>"
      ]
     },
     "metadata": {},
     "output_type": "display_data"
    }
   ],
   "source": [
    "lam, mu, logvar = model.forward(data, L = 1000)\n",
    "plt.scatter(sim[\"x\"], lam.mean(dim = 1)[:,0].tolist())\n",
    "plt.xlabel(\"x\")\n",
    "plt.ylabel(\"lam_posterior\")\n",
    "plt.show()"
   ]
  },
  {
   "cell_type": "code",
   "execution_count": 9,
   "metadata": {
    "scrolled": true
   },
   "outputs": [
    {
     "data": {
      "image/png": "[encoded data removed]",
      "text/plain": [
       "<Figure size 432x288 with 1 Axes>"
      ]
     },
     "metadata": {},
     "output_type": "display_data"
    }
   ],
   "source": [
    "plt.scatter(sim[\"lam\"], lam.mean(dim = 1)[:,0].tolist())\n",
    "plt.xlabel(\"lam\")\n",
    "plt.ylabel(\"lam_posterior\")\n",
    "plt.show()"
   ]
  },
  {
   "cell_type": "markdown",
   "metadata": {},
   "source": [
    "Let's take a look at $g_{\\beta}(\\theta)$.\n",
    "\n",
    "We sample from $g_{\\beta}(\\theta)$ this way:\n",
    "\n",
    "* Sample $z_i \\sim p0(.) = N(.;0,1)$\n",
    "\n",
    "* Let $\\theta_i = f_{\\beta}(z_i)$\n",
    "\n",
    "Compare with the true $g(theta)$, our model has too many weights on 0s. "
   ]
  },
  {
   "cell_type": "code",
   "execution_count": 10,
   "metadata": {},
   "outputs": [
    {
     "data": {
      "image/png": "[encoded data removed]",
      "text/plain": [
       "<Figure size 432x288 with 1 Axes>"
      ]
     },
     "metadata": {},
     "output_type": "display_data"
    }
   ],
   "source": [
    "N = 1000\n",
    "z = torch.randn(N,1)\n",
    "theta = model.decode(z)\n",
    "plt.hist(theta[:,0].tolist(), bins=100)\n",
    "plt.title(\"distribution of g_beta(theta)\")\n",
    "plt.show()"
   ]
  },
  {
   "cell_type": "code",
   "execution_count": 11,
   "metadata": {},
   "outputs": [],
   "source": [
    "import pickle\n",
    "out = {\"x\":sim[\"x\"], \"lam\":np.array(sim[\"lam\"]), \"posterior_vae\":np.array(lam.mean(dim = 1)[:,0].tolist())}\n",
    "with open(\"../data/poisson-normal.pkl\", \"wb\") as f:\n",
    "    pickle.dump(out, f)"
   ]
  }
 ],
 "metadata": {
  "kernelspec": {
   "display_name": "Python 3",
   "language": "python",
   "name": "python3"
  },
  "language_info": {
   "codemirror_mode": {
    "name": "ipython",
    "version": 3
   },
   "file_extension": ".py",
   "mimetype": "text/x-python",
   "name": "python",
   "nbconvert_exporter": "python",
   "pygments_lexer": "ipython3",
   "version": "3.6.8"
  }
 },
 "nbformat": 4,
 "nbformat_minor": 2
}
